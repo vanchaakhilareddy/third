{
 "cells": [
  {
   "cell_type": "code",
   "execution_count": 48,
   "id": "c64abbff",
   "metadata": {},
   "outputs": [
    {
     "name": "stdout",
     "output_type": "stream",
     "text": [
      "20\n"
     ]
    }
   ],
   "source": [
    "# Write a Python function to sum all the numbers in a list.\n",
    "\n",
    "def fun_1(sumofelem):\n",
    "    for i in sumofelem:\n",
    "        add=sum(sumofelem)\n",
    "    print(add)\n",
    "fun_1([8, 2, 3, 0, 7])"
   ]
  },
  {
   "cell_type": "code",
   "execution_count": 2,
   "id": "72719947",
   "metadata": {},
   "outputs": [
    {
     "name": "stdout",
     "output_type": "stream",
     "text": [
      "dcba4321\n"
     ]
    }
   ],
   "source": [
    "#Write a Python program to reverse a string.\n",
    "\n",
    "def fun_2(strr):\n",
    "    string=strr[::-1]\n",
    "    print(string)\n",
    "fun_2('1234abcd')"
   ]
  },
  {
   "cell_type": "code",
   "execution_count": 47,
   "id": "eea668ca",
   "metadata": {},
   "outputs": [
    {
     "name": "stdout",
     "output_type": "stream",
     "text": [
      "num of upper case characters is:  3\n",
      "num of lower case characters is: 12\n"
     ]
    }
   ],
   "source": [
    "#Write a Python function that accepts a string and calculate the number of upper case letters and lower case letters.\n",
    "\n",
    "def fun_3(string):\n",
    "    upper_count=0\n",
    "    lower_count=0\n",
    "    for i in string:\n",
    "        if i.isalpha():\n",
    "            if i.isupper():\n",
    "                upper_count+=1\n",
    "            else:\n",
    "                lower_count+=1\n",
    "        else:\n",
    "            pass\n",
    "    print(\"num of upper case characters is: \", upper_count)\n",
    "    print(\"num of lower case characters is:\", lower_count)\n",
    "\n",
    "fun_3('The quick Brow Fox')"
   ]
  },
  {
   "cell_type": "code",
   "execution_count": null,
   "id": "f0fae16e",
   "metadata": {},
   "outputs": [],
   "source": []
  }
 ],
 "metadata": {
  "kernelspec": {
   "display_name": "Python 3",
   "language": "python",
   "name": "python3"
  },
  "language_info": {
   "codemirror_mode": {
    "name": "ipython",
    "version": 3
   },
   "file_extension": ".py",
   "mimetype": "text/x-python",
   "name": "python",
   "nbconvert_exporter": "python",
   "pygments_lexer": "ipython3",
   "version": "3.8.8"
  }
 },
 "nbformat": 4,
 "nbformat_minor": 5
}
